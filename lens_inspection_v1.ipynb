{
 "cells": [
  {
   "cell_type": "code",
   "execution_count": 1,
   "id": "22cdae22",
   "metadata": {},
   "outputs": [],
   "source": [
    "import os\n",
    "os.environ[\"GOOGLE_APPLICATION_CREDENTIALS\"]=\"/Users/tylerhouchin/Desktop/lens_inspection/deep-burner-360219-d5748f56761f.json\"\n"
   ]
  },
  {
   "cell_type": "code",
   "execution_count": 2,
   "id": "bef5ce67",
   "metadata": {},
   "outputs": [
    {
     "name": "stdout",
     "output_type": "stream",
     "text": [
      "Dataset name: projects/897271433543/locations/us-central1/datasets/ICN4187945781954609152\n",
      "Dataset id: ICN4187945781954609152\n"
     ]
    }
   ],
   "source": [
    "#Creating a dataset\n",
    "#This block creates a dataset wherein each image can only be assigned to one label (defect/normal) aka MULTICLASS\n",
    "\n",
    "from google.cloud import automl\n",
    "\n",
    "project_id = \"deep-burner-360219\"\n",
    "display_name = \"dataset1\"\n",
    "\n",
    "client = automl.AutoMlClient()\n",
    "\n",
    "# A resource that represents Google Cloud Platform location.\n",
    "project_location = f\"projects/{project_id}/locations/us-central1\"\n",
    "# Specify the classification type\n",
    "# Types:\n",
    "# MultiLabel: Multiple labels are allowed for one example.\n",
    "# MultiClass: At most one label is allowed per example.\n",
    "# https://cloud.google.com/automl/docs/reference/rpc/google.cloud.automl.v1#classificationtype\n",
    "metadata = automl.ImageClassificationDatasetMetadata(\n",
    "    classification_type=automl.ClassificationType.MULTICLASS\n",
    ")\n",
    "dataset = automl.Dataset(\n",
    "    display_name=display_name,\n",
    "    image_classification_dataset_metadata=metadata,\n",
    ")\n",
    "\n",
    "# Create a dataset with the dataset metadata in the region.\n",
    "response = client.create_dataset(parent=project_location, dataset=dataset, timeout=300)\n",
    "\n",
    "created_dataset = response.result()\n",
    "\n",
    "# Display the dataset information\n",
    "print(\"Dataset name: {}\".format(created_dataset.name))\n",
    "print(\"Dataset id: {}\".format(created_dataset.name.split(\"/\")[-1]))"
   ]
  },
  {
   "cell_type": "code",
   "execution_count": 3,
   "id": "b4147d17",
   "metadata": {},
   "outputs": [
    {
     "name": "stdout",
     "output_type": "stream",
     "text": [
      "Processing import...\n",
      "Data imported. \n"
     ]
    }
   ],
   "source": [
    "#Importing items into the dataset\n",
    "#This block imports images into our created dataset by specifying filepath of previously created .csv \n",
    "#The csv must be stored in the same bucket as our images\n",
    "#Format of csv is: one row per image; columns are use, file path, label\n",
    "\n",
    "dataset_id = \"ICN4187945781954609152\"\n",
    "path = \"gs://deep-burner-360219-vcm/lenses.csv\"\n",
    "\n",
    "# Get the full path of the dataset.\n",
    "dataset_full_id = client.dataset_path(project_id, \"us-central1\", dataset_id)\n",
    "# Get the multiple Google Cloud Storage URIs\n",
    "input_uris = path.split(\",\")\n",
    "gcs_source = automl.GcsSource(input_uris=input_uris)\n",
    "input_config = automl.InputConfig(gcs_source=gcs_source)\n",
    "# Import data from the input URI\n",
    "response = client.import_data(name=dataset_full_id, input_config=input_config)\n",
    "\n",
    "print(\"Processing import...\")\n",
    "print(\"Data imported. {}\".format(response.result()))\n"
   ]
  },
  {
   "cell_type": "markdown",
   "id": "a727c0f8",
   "metadata": {},
   "source": [
    "Image labeleing is done using the [Google Console](https://cloud.google.com/vision/automl/docs/create-datasets#automl_vision_classification_create_dataset-python:~:text=items%20in%20the-,AutoML%20Vision%20UI,-%2C%20select%20the%20dataset)\n",
    ".This is just verification as the lableing was provided in our lenses.csv"
   ]
  },
  {
   "cell_type": "code",
   "execution_count": 4,
   "id": "9887eb38",
   "metadata": {},
   "outputs": [
    {
     "name": "stdout",
     "output_type": "stream",
     "text": [
      "Training operation name: projects/897271433543/locations/us-central1/operations/ICN3543064894955847680\n",
      "Training started...\n"
     ]
    }
   ],
   "source": [
    "#This block begins to train our model\n",
    "\n",
    "display_name = \"inspection_model_v1\"\n",
    "\n",
    "\n",
    "# A resource that represents Google Cloud Platform location.\n",
    "project_location = f\"projects/{project_id}/locations/us-central1\"\n",
    "# Leave model unset to use the default base model provided by Google\n",
    "# train_budget_milli_node_hours: The actual train_cost will be equal or\n",
    "# less than this value.\n",
    "# https://cloud.google.com/automl/docs/reference/rpc/google.cloud.automl.v1#imageclassificationmodelmetadata\n",
    "metadata = automl.ImageClassificationModelMetadata(\n",
    "    train_budget_milli_node_hours=24000\n",
    ")\n",
    "model = automl.Model(\n",
    "    display_name=display_name,\n",
    "    dataset_id=dataset_id,\n",
    "    image_classification_model_metadata=metadata,\n",
    ")\n",
    "\n",
    "# Create a model with the model metadata in the region.\n",
    "response = client.create_model(parent=project_location, model=model)\n",
    "\n",
    "print(\"Training operation name: {}\".format(response.operation.name))\n",
    "print(\"Training started...\")"
   ]
  },
  {
   "cell_type": "code",
   "execution_count": null,
   "id": "822e4721",
   "metadata": {},
   "outputs": [],
   "source": []
  }
 ],
 "metadata": {
  "kernelspec": {
   "display_name": "Python 3 (ipykernel)",
   "language": "python",
   "name": "python3"
  },
  "language_info": {
   "codemirror_mode": {
    "name": "ipython",
    "version": 3
   },
   "file_extension": ".py",
   "mimetype": "text/x-python",
   "name": "python",
   "nbconvert_exporter": "python",
   "pygments_lexer": "ipython3",
   "version": "3.9.12"
  }
 },
 "nbformat": 4,
 "nbformat_minor": 5
}
